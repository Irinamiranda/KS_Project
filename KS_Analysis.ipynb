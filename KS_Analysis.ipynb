{
 "cells": [
  {
   "cell_type": "code",
   "execution_count": 226,
   "metadata": {},
   "outputs": [],
   "source": [
    "import pandas as pd\n",
    "import numpy as np\n",
    "from matplotlib import pyplot as plt\n",
    "import seaborn as sns\n",
    "%matplotlib inline\n",
    "import statsmodels.formula.api as smf"
   ]
  },
  {
   "cell_type": "code",
   "execution_count": 227,
   "metadata": {},
   "outputs": [
    {
     "data": {
      "text/plain": [
       "Index(['category', 'main_category', 'currency', 'deadline', 'goal', 'launched',\n",
       "       'pledged', 'state', 'backers', 'country', 'origin'],\n",
       "      dtype='object')"
      ]
     },
     "execution_count": 227,
     "metadata": {},
     "output_type": "execute_result"
    }
   ],
   "source": [
    "target_columns = [\n",
    "    'category', \n",
    "    'main_category', \n",
    "    'currency', \n",
    "    'deadline', \n",
    "    'goal', \n",
    "    'launched', \n",
    "    'pledged', \n",
    "    'state', \n",
    "    'backers', \n",
    "    'country'\n",
    "]\n",
    "\n",
    "df1 = pd.read_csv(\"ks-projects-201612.csv\", encoding = \"ISO-8859-1\")\n",
    "\n",
    "# original column names have extra spaces at the end, let's remove these spaces\n",
    "for cn in df1.columns:\n",
    "    df1.rename(columns={cn: cn.strip()}, inplace=True)\n",
    "#print(df1.columns)\n",
    "\n",
    "# select only defined columns\n",
    "df1 = df1[target_columns]\n",
    "df1['origin'] = 'df1'\n",
    "\n",
    "df1.columns"
   ]
  },
  {
   "cell_type": "code",
   "execution_count": 228,
   "metadata": {},
   "outputs": [
    {
     "data": {
      "text/plain": [
       "Index(['category', 'main_category', 'currency', 'deadline', 'goal', 'launched',\n",
       "       'pledged', 'state', 'backers', 'country', 'origin'],\n",
       "      dtype='object')"
      ]
     },
     "execution_count": 228,
     "metadata": {},
     "output_type": "execute_result"
    }
   ],
   "source": [
    "df2 = pd.read_csv(\"ks-projects-201801.csv\")\n",
    "\n",
    "# select only defined columns\n",
    "df2 = df2[target_columns]\n",
    "df2['origin'] = 'df2'\n",
    "\n",
    "df2.columns"
   ]
  },
  {
   "cell_type": "code",
   "execution_count": 229,
   "metadata": {},
   "outputs": [
    {
     "name": "stdout",
     "output_type": "stream",
     "text": [
      "Index(['category', 'main_category', 'currency', 'deadline', 'goal', 'launched',\n",
      "       'pledged', 'state', 'backers', 'country', 'origin'],\n",
      "      dtype='object')\n"
     ]
    }
   ],
   "source": [
    "# merge two datasets into one\n",
    "df = pd.concat([df1, df2], ignore_index=True)\n",
    "print(df.columns)"
   ]
  },
  {
   "cell_type": "code",
   "execution_count": 230,
   "metadata": {},
   "outputs": [
    {
     "data": {
      "text/plain": [
       "category         701788\n",
       "main_category    701788\n",
       "currency         701788\n",
       "deadline         701788\n",
       "goal             701788\n",
       "launched         701788\n",
       "pledged          701788\n",
       "state            701788\n",
       "backers          701788\n",
       "country          701788\n",
       "origin           701788\n",
       "dtype: int64"
      ]
     },
     "execution_count": 230,
     "metadata": {},
     "output_type": "execute_result"
    }
   ],
   "source": [
    "# cleanup rows with invalid backers values\n",
    "indexes = df[pd.to_numeric(df['backers'], errors='coerce').isnull()].index\n",
    "df.drop(indexes, inplace=True)\n",
    "\n",
    "# convert retained backers to int\n",
    "df['backers'] = pd.to_numeric(df['backers']).round(0)\n",
    "df.count()\n",
    "#pd.value_counts(df['backers'])"
   ]
  },
  {
   "cell_type": "code",
   "execution_count": 231,
   "metadata": {},
   "outputs": [
    {
     "data": {
      "text/plain": [
       "failed        365940\n",
       "successful    247037\n",
       "canceled       71133\n",
       "live            7227\n",
       "undefined       7117\n",
       "suspended       3325\n",
       "Name: state, dtype: int64"
      ]
     },
     "execution_count": 231,
     "metadata": {},
     "output_type": "execute_result"
    }
   ],
   "source": [
    "#print(pd.value_counts(df['state']))\n",
    "\n",
    "states = ('failed', 'suspended', 'canceled', 'undefined', 'live', 'successful')\n",
    "\n",
    "# clean up data with invalid 'state' values\n",
    "indexes = df[~df['state'].isin(states)].index\n",
    "df.drop(indexes, inplace=True)\n",
    "\n",
    "pd.value_counts(df['state'])"
   ]
  },
  {
   "cell_type": "code",
   "execution_count": 232,
   "metadata": {},
   "outputs": [
    {
     "name": "stdout",
     "output_type": "stream",
     "text": [
      "['failed' 'canceled' 'successful' 'live' 'undefined' 'suspended']\n"
     ]
    }
   ],
   "source": [
    "print(df['state'].unique())\n",
    "\n",
    "df['state_new'] = df['state'].apply(lambda s: states.index(s))\n",
    "\n",
    "categories = list(df['main_category'].unique())\n",
    "categories.sort()\n",
    "df['main_category_new'] = df['main_category'].apply(lambda s: categories.index(s))\n",
    "\n",
    "countries = list(df['country'].unique())\n",
    "countries.sort()\n",
    "#print(countries)\n",
    "df['country_new'] = df['country'].apply(lambda s: countries.index(s))\n",
    "\n",
    "df['pledged'] = pd.to_numeric(df['pledged'])\n",
    "df['goal'] = pd.to_numeric(df['goal'])\n",
    "df['profit_ratio'] = df['pledged'] / df['goal']\n",
    "\n",
    "df['duration'] = (pd.to_datetime(df['deadline']) - pd.to_datetime(df['launched'])).dt.days\n",
    "\n",
    "#df.head()"
   ]
  },
  {
   "cell_type": "code",
   "execution_count": 233,
   "metadata": {},
   "outputs": [
    {
     "data": {
      "text/plain": [
       "category             694192\n",
       "main_category        694192\n",
       "currency             694192\n",
       "deadline             694192\n",
       "goal                 694192\n",
       "launched             694192\n",
       "pledged              694192\n",
       "state                694192\n",
       "backers              694192\n",
       "country              694192\n",
       "origin               694192\n",
       "state_new            694192\n",
       "main_category_new    694192\n",
       "country_new          694192\n",
       "profit_ratio         694192\n",
       "duration             694192\n",
       "dtype: int64"
      ]
     },
     "execution_count": 233,
     "metadata": {},
     "output_type": "execute_result"
    }
   ],
   "source": [
    "df.drop_duplicates(keep=False, inplace=True)\n",
    "\n",
    "# TODO: check country code for two-letter instead\n",
    "indexes = df[df['country'].isin(['N,0\"', 'N,\"0'])].index\n",
    "df.drop(indexes, inplace=True)\n",
    "\n",
    "# export data for analysis\n",
    "df.to_csv('my_ks-projects-merged.csv')\n",
    "\n",
    "df.count()"
   ]
  },
  {
   "cell_type": "code",
   "execution_count": 238,
   "metadata": {},
   "outputs": [
    {
     "data": {
      "text/html": [
       "<div>\n",
       "<style scoped>\n",
       "    .dataframe tbody tr th:only-of-type {\n",
       "        vertical-align: middle;\n",
       "    }\n",
       "\n",
       "    .dataframe tbody tr th {\n",
       "        vertical-align: top;\n",
       "    }\n",
       "\n",
       "    .dataframe thead th {\n",
       "        text-align: right;\n",
       "    }\n",
       "</style>\n",
       "<table border=\"1\" class=\"dataframe\">\n",
       "  <thead>\n",
       "    <tr style=\"text-align: right;\">\n",
       "      <th></th>\n",
       "      <th>goal</th>\n",
       "      <th>pledged</th>\n",
       "      <th>backers</th>\n",
       "      <th>state_new</th>\n",
       "      <th>main_category_new</th>\n",
       "      <th>country_new</th>\n",
       "      <th>profit_ratio</th>\n",
       "      <th>duration</th>\n",
       "    </tr>\n",
       "  </thead>\n",
       "  <tbody>\n",
       "    <tr>\n",
       "      <th>goal</th>\n",
       "      <td>1.000000</td>\n",
       "      <td>0.505244</td>\n",
       "      <td>0.452175</td>\n",
       "      <td>NaN</td>\n",
       "      <td>0.022165</td>\n",
       "      <td>0.000340</td>\n",
       "      <td>-0.004442</td>\n",
       "      <td>0.054839</td>\n",
       "    </tr>\n",
       "    <tr>\n",
       "      <th>pledged</th>\n",
       "      <td>0.505244</td>\n",
       "      <td>1.000000</td>\n",
       "      <td>0.728704</td>\n",
       "      <td>NaN</td>\n",
       "      <td>0.011716</td>\n",
       "      <td>0.001560</td>\n",
       "      <td>0.007136</td>\n",
       "      <td>0.032671</td>\n",
       "    </tr>\n",
       "    <tr>\n",
       "      <th>backers</th>\n",
       "      <td>0.452175</td>\n",
       "      <td>0.728704</td>\n",
       "      <td>1.000000</td>\n",
       "      <td>NaN</td>\n",
       "      <td>0.006153</td>\n",
       "      <td>0.005329</td>\n",
       "      <td>0.015234</td>\n",
       "      <td>0.022658</td>\n",
       "    </tr>\n",
       "    <tr>\n",
       "      <th>state_new</th>\n",
       "      <td>NaN</td>\n",
       "      <td>NaN</td>\n",
       "      <td>NaN</td>\n",
       "      <td>NaN</td>\n",
       "      <td>NaN</td>\n",
       "      <td>NaN</td>\n",
       "      <td>NaN</td>\n",
       "      <td>NaN</td>\n",
       "    </tr>\n",
       "    <tr>\n",
       "      <th>main_category_new</th>\n",
       "      <td>0.022165</td>\n",
       "      <td>0.011716</td>\n",
       "      <td>0.006153</td>\n",
       "      <td>NaN</td>\n",
       "      <td>1.000000</td>\n",
       "      <td>0.011007</td>\n",
       "      <td>0.002261</td>\n",
       "      <td>0.043463</td>\n",
       "    </tr>\n",
       "    <tr>\n",
       "      <th>country_new</th>\n",
       "      <td>0.000340</td>\n",
       "      <td>0.001560</td>\n",
       "      <td>0.005329</td>\n",
       "      <td>NaN</td>\n",
       "      <td>0.011007</td>\n",
       "      <td>1.000000</td>\n",
       "      <td>0.004321</td>\n",
       "      <td>0.038407</td>\n",
       "    </tr>\n",
       "    <tr>\n",
       "      <th>profit_ratio</th>\n",
       "      <td>-0.004442</td>\n",
       "      <td>0.007136</td>\n",
       "      <td>0.015234</td>\n",
       "      <td>NaN</td>\n",
       "      <td>0.002261</td>\n",
       "      <td>0.004321</td>\n",
       "      <td>1.000000</td>\n",
       "      <td>0.005527</td>\n",
       "    </tr>\n",
       "    <tr>\n",
       "      <th>duration</th>\n",
       "      <td>0.054839</td>\n",
       "      <td>0.032671</td>\n",
       "      <td>0.022658</td>\n",
       "      <td>NaN</td>\n",
       "      <td>0.043463</td>\n",
       "      <td>0.038407</td>\n",
       "      <td>0.005527</td>\n",
       "      <td>1.000000</td>\n",
       "    </tr>\n",
       "  </tbody>\n",
       "</table>\n",
       "</div>"
      ],
      "text/plain": [
       "                       goal   pledged   backers  state_new  main_category_new  \\\n",
       "goal               1.000000  0.505244  0.452175        NaN           0.022165   \n",
       "pledged            0.505244  1.000000  0.728704        NaN           0.011716   \n",
       "backers            0.452175  0.728704  1.000000        NaN           0.006153   \n",
       "state_new               NaN       NaN       NaN        NaN                NaN   \n",
       "main_category_new  0.022165  0.011716  0.006153        NaN           1.000000   \n",
       "country_new        0.000340  0.001560  0.005329        NaN           0.011007   \n",
       "profit_ratio      -0.004442  0.007136  0.015234        NaN           0.002261   \n",
       "duration           0.054839  0.032671  0.022658        NaN           0.043463   \n",
       "\n",
       "                   country_new  profit_ratio  duration  \n",
       "goal                  0.000340     -0.004442  0.054839  \n",
       "pledged               0.001560      0.007136  0.032671  \n",
       "backers               0.005329      0.015234  0.022658  \n",
       "state_new                  NaN           NaN       NaN  \n",
       "main_category_new     0.011007      0.002261  0.043463  \n",
       "country_new           1.000000      0.004321  0.038407  \n",
       "profit_ratio          0.004321      1.000000  0.005527  \n",
       "duration              0.038407      0.005527  1.000000  "
      ]
     },
     "execution_count": 238,
     "metadata": {},
     "output_type": "execute_result"
    }
   ],
   "source": [
    "success_df = df.loc[df['state'] == \"successful\"]\n",
    "success_df.corr()\n",
    "\n",
    "#df.corr()"
   ]
  },
  {
   "cell_type": "code",
   "execution_count": 235,
   "metadata": {},
   "outputs": [
    {
     "data": {
      "text/html": [
       "<table class=\"simpletable\">\n",
       "<caption>OLS Regression Results</caption>\n",
       "<tr>\n",
       "  <th>Dep. Variable:</th>        <td>state_new</td>    <th>  R-squared:         </th>  <td>   0.019</td>  \n",
       "</tr>\n",
       "<tr>\n",
       "  <th>Model:</th>                   <td>OLS</td>       <th>  Adj. R-squared:    </th>  <td>   0.019</td>  \n",
       "</tr>\n",
       "<tr>\n",
       "  <th>Method:</th>             <td>Least Squares</td>  <th>  F-statistic:       </th>  <td>   2278.</td>  \n",
       "</tr>\n",
       "<tr>\n",
       "  <th>Date:</th>             <td>Fri, 01 Nov 2019</td> <th>  Prob (F-statistic):</th>   <td>  0.00</td>   \n",
       "</tr>\n",
       "<tr>\n",
       "  <th>Time:</th>                 <td>16:01:34</td>     <th>  Log-Likelihood:    </th> <td>-1.5606e+06</td>\n",
       "</tr>\n",
       "<tr>\n",
       "  <th>No. Observations:</th>      <td>694192</td>      <th>  AIC:               </th>  <td>3.121e+06</td> \n",
       "</tr>\n",
       "<tr>\n",
       "  <th>Df Residuals:</th>          <td>694185</td>      <th>  BIC:               </th>  <td>3.121e+06</td> \n",
       "</tr>\n",
       "<tr>\n",
       "  <th>Df Model:</th>              <td>     6</td>      <th>                     </th>      <td> </td>     \n",
       "</tr>\n",
       "<tr>\n",
       "  <th>Covariance Type:</th>      <td>nonrobust</td>    <th>                     </th>      <td> </td>     \n",
       "</tr>\n",
       "</table>\n",
       "<table class=\"simpletable\">\n",
       "<tr>\n",
       "          <td></td>             <th>coef</th>     <th>std err</th>      <th>t</th>      <th>P>|t|</th>  <th>[0.025</th>    <th>0.975]</th>  \n",
       "</tr>\n",
       "<tr>\n",
       "  <th>Intercept</th>         <td>    1.7798</td> <td>    0.010</td> <td>  171.829</td> <td> 0.000</td> <td>    1.759</td> <td>    1.800</td>\n",
       "</tr>\n",
       "<tr>\n",
       "  <th>pledged</th>           <td>  9.78e-07</td> <td> 4.31e-08</td> <td>   22.684</td> <td> 0.000</td> <td> 8.93e-07</td> <td> 1.06e-06</td>\n",
       "</tr>\n",
       "<tr>\n",
       "  <th>backers</th>           <td>    0.0002</td> <td> 4.35e-06</td> <td>   52.320</td> <td> 0.000</td> <td>    0.000</td> <td>    0.000</td>\n",
       "</tr>\n",
       "<tr>\n",
       "  <th>goal</th>              <td>-4.398e-08</td> <td> 2.35e-09</td> <td>  -18.706</td> <td> 0.000</td> <td>-4.86e-08</td> <td>-3.94e-08</td>\n",
       "</tr>\n",
       "<tr>\n",
       "  <th>main_category_new</th> <td>   -0.0150</td> <td>    0.001</td> <td>  -21.336</td> <td> 0.000</td> <td>   -0.016</td> <td>   -0.014</td>\n",
       "</tr>\n",
       "<tr>\n",
       "  <th>country_new</th>       <td>    0.0179</td> <td>    0.000</td> <td>   42.654</td> <td> 0.000</td> <td>    0.017</td> <td>    0.019</td>\n",
       "</tr>\n",
       "<tr>\n",
       "  <th>duration</th>          <td>   -0.0007</td> <td>    4e-05</td> <td>  -16.850</td> <td> 0.000</td> <td>   -0.001</td> <td>   -0.001</td>\n",
       "</tr>\n",
       "</table>\n",
       "<table class=\"simpletable\">\n",
       "<tr>\n",
       "  <th>Omnibus:</th>       <td>9810.362</td> <th>  Durbin-Watson:     </th> <td>   1.998</td> \n",
       "</tr>\n",
       "<tr>\n",
       "  <th>Prob(Omnibus):</th>  <td> 0.000</td>  <th>  Jarque-Bera (JB):  </th> <td>10233.126</td>\n",
       "</tr>\n",
       "<tr>\n",
       "  <th>Skew:</th>           <td> 0.297</td>  <th>  Prob(JB):          </th> <td>    0.00</td> \n",
       "</tr>\n",
       "<tr>\n",
       "  <th>Kurtosis:</th>       <td> 3.003</td>  <th>  Cond. No.          </th> <td>4.41e+06</td> \n",
       "</tr>\n",
       "</table><br/><br/>Warnings:<br/>[1] Standard Errors assume that the covariance matrix of the errors is correctly specified.<br/>[2] The condition number is large, 4.41e+06. This might indicate that there are<br/>strong multicollinearity or other numerical problems."
      ],
      "text/plain": [
       "<class 'statsmodels.iolib.summary.Summary'>\n",
       "\"\"\"\n",
       "                            OLS Regression Results                            \n",
       "==============================================================================\n",
       "Dep. Variable:              state_new   R-squared:                       0.019\n",
       "Model:                            OLS   Adj. R-squared:                  0.019\n",
       "Method:                 Least Squares   F-statistic:                     2278.\n",
       "Date:                Fri, 01 Nov 2019   Prob (F-statistic):               0.00\n",
       "Time:                        16:01:34   Log-Likelihood:            -1.5606e+06\n",
       "No. Observations:              694192   AIC:                         3.121e+06\n",
       "Df Residuals:                  694185   BIC:                         3.121e+06\n",
       "Df Model:                           6                                         \n",
       "Covariance Type:            nonrobust                                         \n",
       "=====================================================================================\n",
       "                        coef    std err          t      P>|t|      [0.025      0.975]\n",
       "-------------------------------------------------------------------------------------\n",
       "Intercept             1.7798      0.010    171.829      0.000       1.759       1.800\n",
       "pledged             9.78e-07   4.31e-08     22.684      0.000    8.93e-07    1.06e-06\n",
       "backers               0.0002   4.35e-06     52.320      0.000       0.000       0.000\n",
       "goal              -4.398e-08   2.35e-09    -18.706      0.000   -4.86e-08   -3.94e-08\n",
       "main_category_new    -0.0150      0.001    -21.336      0.000      -0.016      -0.014\n",
       "country_new           0.0179      0.000     42.654      0.000       0.017       0.019\n",
       "duration             -0.0007      4e-05    -16.850      0.000      -0.001      -0.001\n",
       "==============================================================================\n",
       "Omnibus:                     9810.362   Durbin-Watson:                   1.998\n",
       "Prob(Omnibus):                  0.000   Jarque-Bera (JB):            10233.126\n",
       "Skew:                           0.297   Prob(JB):                         0.00\n",
       "Kurtosis:                       3.003   Cond. No.                     4.41e+06\n",
       "==============================================================================\n",
       "\n",
       "Warnings:\n",
       "[1] Standard Errors assume that the covariance matrix of the errors is correctly specified.\n",
       "[2] The condition number is large, 4.41e+06. This might indicate that there are\n",
       "strong multicollinearity or other numerical problems.\n",
       "\"\"\""
      ]
     },
     "execution_count": 235,
     "metadata": {},
     "output_type": "execute_result"
    }
   ],
   "source": [
    "result = smf.ols('state_new ~ pledged + backers + goal + main_category_new + country_new + duration', data=df).fit()\n",
    "#result = smf.ols('state_new ~ pledged + backers', data=df).fit()\n",
    "result.summary()"
   ]
  },
  {
   "cell_type": "code",
   "execution_count": 248,
   "metadata": {},
   "outputs": [
    {
     "data": {
      "text/plain": [
       "<seaborn.axisgrid.FacetGrid at 0x268b38d3940>"
      ]
     },
     "execution_count": 248,
     "metadata": {},
     "output_type": "execute_result"
    },
    {
     "data": {
      "image/png": "[encoded data removed]",
      "text/plain": [
       "<Figure size 450.5x360 with 1 Axes>"
      ]
     },
     "metadata": {
      "needs_background": "light"
     },
     "output_type": "display_data"
    }
   ],
   "source": [
    "sns.lmplot(x='duration', y='profit_ratio', data=df,\n",
    "          fit_reg=True,\n",
    "          hue=\"state\")"
   ]
  },
  {
   "cell_type": "code",
   "execution_count": null,
   "metadata": {},
   "outputs": [],
   "source": []
  }
 ],
 "metadata": {
  "kernelspec": {
   "display_name": "Python 3",
   "language": "python",
   "name": "python3"
  },
  "language_info": {
   "codemirror_mode": {
    "name": "ipython",
    "version": 3
   },
   "file_extension": ".py",
   "mimetype": "text/x-python",
   "name": "python",
   "nbconvert_exporter": "python",
   "pygments_lexer": "ipython3",
   "version": "3.7.3"
  }
 },
 "nbformat": 4,
 "nbformat_minor": 2
}
